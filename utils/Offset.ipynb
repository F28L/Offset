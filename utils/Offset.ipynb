{
 "cells": [
  {
   "cell_type": "code",
   "execution_count": 60,
   "metadata": {
    "scrolled": true
   },
   "outputs": [
    {
     "output_type": "stream",
     "name": "stdout",
     "text": [
      "Requirement already up-to-date: google-api-python-client in /opt/anaconda3/lib/python3.8/site-packages (2.1.0)\n",
      "Requirement already up-to-date: google-auth-httplib2 in /opt/anaconda3/lib/python3.8/site-packages (0.1.0)\n",
      "Requirement already up-to-date: google-auth-oauthlib in /opt/anaconda3/lib/python3.8/site-packages (0.4.4)\n",
      "Requirement already satisfied, skipping upgrade: google-auth<2dev,>=1.16.0 in /opt/anaconda3/lib/python3.8/site-packages (from google-api-python-client) (1.28.1)\n",
      "Requirement already satisfied, skipping upgrade: six<2dev,>=1.13.0 in /opt/anaconda3/lib/python3.8/site-packages (from google-api-python-client) (1.15.0)\n",
      "Requirement already satisfied, skipping upgrade: httplib2<1dev,>=0.15.0 in /opt/anaconda3/lib/python3.8/site-packages (from google-api-python-client) (0.19.1)\n",
      "Requirement already satisfied, skipping upgrade: google-api-core<2dev,>=1.21.0 in /opt/anaconda3/lib/python3.8/site-packages (from google-api-python-client) (1.26.3)\n",
      "Requirement already satisfied, skipping upgrade: uritemplate<4dev,>=3.0.0 in /opt/anaconda3/lib/python3.8/site-packages (from google-api-python-client) (3.0.1)\n",
      "Requirement already satisfied, skipping upgrade: requests-oauthlib>=0.7.0 in /opt/anaconda3/lib/python3.8/site-packages (from google-auth-oauthlib) (1.3.0)\n",
      "Requirement already satisfied, skipping upgrade: pyasn1-modules>=0.2.1 in /opt/anaconda3/lib/python3.8/site-packages (from google-auth<2dev,>=1.16.0->google-api-python-client) (0.2.8)\n",
      "Requirement already satisfied, skipping upgrade: cachetools<5.0,>=2.0.0 in /opt/anaconda3/lib/python3.8/site-packages (from google-auth<2dev,>=1.16.0->google-api-python-client) (4.2.1)\n",
      "Requirement already satisfied, skipping upgrade: setuptools>=40.3.0 in /opt/anaconda3/lib/python3.8/site-packages (from google-auth<2dev,>=1.16.0->google-api-python-client) (50.3.1.post20201107)\n",
      "Requirement already satisfied, skipping upgrade: rsa<5,>=3.1.4; python_version >= \"3.6\" in /opt/anaconda3/lib/python3.8/site-packages (from google-auth<2dev,>=1.16.0->google-api-python-client) (4.7.2)\n",
      "Requirement already satisfied, skipping upgrade: pyparsing<3,>=2.4.2 in /opt/anaconda3/lib/python3.8/site-packages (from httplib2<1dev,>=0.15.0->google-api-python-client) (2.4.7)\n",
      "Requirement already satisfied, skipping upgrade: protobuf>=3.12.0 in /opt/anaconda3/lib/python3.8/site-packages (from google-api-core<2dev,>=1.21.0->google-api-python-client) (3.15.8)\n",
      "Requirement already satisfied, skipping upgrade: pytz in /opt/anaconda3/lib/python3.8/site-packages (from google-api-core<2dev,>=1.21.0->google-api-python-client) (2020.1)\n",
      "Requirement already satisfied, skipping upgrade: requests<3.0.0dev,>=2.18.0 in /opt/anaconda3/lib/python3.8/site-packages (from google-api-core<2dev,>=1.21.0->google-api-python-client) (2.24.0)\n",
      "Requirement already satisfied, skipping upgrade: googleapis-common-protos<2.0dev,>=1.6.0 in /opt/anaconda3/lib/python3.8/site-packages (from google-api-core<2dev,>=1.21.0->google-api-python-client) (1.53.0)\n",
      "Requirement already satisfied, skipping upgrade: packaging>=14.3 in /opt/anaconda3/lib/python3.8/site-packages (from google-api-core<2dev,>=1.21.0->google-api-python-client) (20.4)\n",
      "Requirement already satisfied, skipping upgrade: oauthlib>=3.0.0 in /opt/anaconda3/lib/python3.8/site-packages (from requests-oauthlib>=0.7.0->google-auth-oauthlib) (3.1.0)\n",
      "Requirement already satisfied, skipping upgrade: pyasn1<0.5.0,>=0.4.6 in /opt/anaconda3/lib/python3.8/site-packages (from pyasn1-modules>=0.2.1->google-auth<2dev,>=1.16.0->google-api-python-client) (0.4.8)\n",
      "Requirement already satisfied, skipping upgrade: urllib3!=1.25.0,!=1.25.1,<1.26,>=1.21.1 in /opt/anaconda3/lib/python3.8/site-packages (from requests<3.0.0dev,>=2.18.0->google-api-core<2dev,>=1.21.0->google-api-python-client) (1.25.11)\n",
      "Requirement already satisfied, skipping upgrade: idna<3,>=2.5 in /opt/anaconda3/lib/python3.8/site-packages (from requests<3.0.0dev,>=2.18.0->google-api-core<2dev,>=1.21.0->google-api-python-client) (2.10)\n",
      "Requirement already satisfied, skipping upgrade: certifi>=2017.4.17 in /opt/anaconda3/lib/python3.8/site-packages (from requests<3.0.0dev,>=2.18.0->google-api-core<2dev,>=1.21.0->google-api-python-client) (2020.6.20)\n",
      "Requirement already satisfied, skipping upgrade: chardet<4,>=3.0.2 in /opt/anaconda3/lib/python3.8/site-packages (from requests<3.0.0dev,>=2.18.0->google-api-core<2dev,>=1.21.0->google-api-python-client) (3.0.4)\n",
      "Note: you may need to restart the kernel to use updated packages.\n"
     ]
    }
   ],
   "source": [
    "pip install --upgrade google-api-python-client google-auth-httplib2 google-auth-oauthlib"
   ]
  },
  {
   "cell_type": "code",
   "execution_count": 30,
   "metadata": {},
   "outputs": [],
   "source": [
    "from __future__ import print_function\n",
    "import os.path\n",
    "from googleapiclient.discovery import build\n",
    "from google_auth_oauthlib.flow import InstalledAppFlow\n",
    "from google.auth.transport.requests import Request\n",
    "from google.oauth2.credentials import Credentials"
   ]
  },
  {
   "cell_type": "code",
   "execution_count": 44,
   "metadata": {
    "tags": []
   },
   "outputs": [],
   "source": [
    "# import the required libraries\n",
    "from googleapiclient.discovery import build\n",
    "from google_auth_oauthlib.flow import InstalledAppFlow\n",
    "from google.auth.transport.requests import Request\n",
    "import pickle\n",
    "import os.path\n",
    "import base64\n",
    "import re\n",
    "import email\n",
    "from bs4 import BeautifulSoup\n",
    "\n",
    "# Define the SCOPES. If modifying it, delete the token.pickle file.\n",
    "SCOPES = ['https://www.googleapis.com/auth/gmail.readonly']\n",
    "\n",
    "# https://stackoverflow.com/questions/619977/regular-expression-patterns-for-tracking-numbers \n",
    "matchUPS1      = '/\\b(1Z ?[0-9A-Z]{3} ?[0-9A-Z]{3} ?[0-9A-Z]{2} ?[0-9A-Z]{4} ?[0-9A-Z]{3} ?[0-9A-Z]|[\\dT]\\d\\d\\d ?\\d\\d\\d\\d ?\\d\\d\\d)\\b/'\n",
    "matchUPS2      = '/^[kKJj]{1}[0-9]{10}$/'\n",
    "\n",
    "matchUSPS0     = '/(\\b\\d{30}\\b)|(\\b91\\d+\\b)|(\\b\\d{20}\\b)/'\n",
    "matchUSPS1     = '/(\\b\\d{30}\\b)|(\\b91\\d+\\b)|(\\b\\d{20}\\b)|(\\b\\d{26}\\b)| ^E\\D{1}\\d{9}\\D{2}$|^9\\d{15,21}$| ^91[0-9]+$| ^[A-Za-z]{2}[0-9]+US$/i'\n",
    "matchUSPS2     = '/^E\\D{1}\\d{9}\\D{2}$|^9\\d{15,21}$/'\n",
    "matchUSPS3     = '/^91[0-9]+$/'\n",
    "matchUSPS4     = '/^[A-Za-z]{2}[0-9]+US$/'\n",
    "matchUSPS5     = '/(\\b\\d{30}\\b)|(\\b91\\d+\\b)|(\\b\\d{20}\\b)|(\\b\\d{26}\\b)| ^E\\D{1}\\d{9}\\D{2}$|^9\\d{15,21}$| ^91[0-9]+$| ^[A-Za-z]{2}[0-9]+US$/i'\n",
    "\n",
    "matchFedex1    = '/(\\b96\\d{20}\\b)|(\\b\\d{15}\\b)|(\\b\\d{12}\\b)/'\n",
    "matchFedex2    = '/\\b((98\\d\\d\\d\\d\\d?\\d\\d\\d\\d|98\\d\\d) ?\\d\\d\\d\\d ?\\d\\d\\d\\d( ?\\d\\d\\d)?)\\b/'\n",
    "matchFedex3    = '/^[0-9]{15}$/'\n",
    "\n",
    "possible_tracking_numbers_regex = [matchUPS1, matchUPS2, matchUSPS0, matchUSPS1, matchUSPS2, matchUSPS3, matchUSPS4, matchUSPS5, matchFedex1, matchFedex2, matchFedex3]"
   ]
  },
  {
   "cell_type": "code",
   "execution_count": 65,
   "metadata": {},
   "outputs": [],
   "source": [
    "def grab_tracking_number(soup):\n",
    "    number_set = set()\n",
    "\n",
    "    usps = '([A-Z]{2}\\d{9}[A-Z]{2}|(420\\d{9}(9[2345])?)?\\d{20}|(420\\d{5})?(9[12345])?(\\d{24}|\\d{20})|82\\d{8})'\n",
    "    ups = '(1Z[A-H,J-N,P,R-Z,0-9]{16})'\n",
    "    fedex = '\\D([0-9]{12}|100\\d{31}|\\d{15}|\\d{18}|96\\d{20}|96\\d{32})\\D'\n",
    "\n",
    "    pattern = re.compile(f'{usps}|{ups}|{fedex}')\n",
    "    fedex_pattern = re.compile(fedex)\n",
    "\n",
    "    for line in open(\"./test_emails/inked.txt\"):\n",
    "        for match in re.finditer(pattern, line):\n",
    "            if fedex_pattern.match(match[0]):\n",
    "                number = re.sub(\"[^0-9]\", \"\", match[0])\n",
    "                number_set.add(number)\n",
    "            else:\n",
    "                number_set.add(match[0])\n",
    "\n",
    "    return number_set"
   ]
  },
  {
   "cell_type": "code",
   "execution_count": null,
   "metadata": {},
   "outputs": [],
   "source": []
  },
  {
   "cell_type": "code",
   "execution_count": null,
   "metadata": {},
   "outputs": [],
   "source": [
    "dummy_number"
   ]
  },
  {
   "cell_type": "code",
   "execution_count": 79,
   "metadata": {
    "tags": []
   },
   "outputs": [],
   "source": [
    "def getTrackingNumbersFromEmailInbox():\n",
    "    tracking_numbers = set()\n",
    "    # Variable creds will store the user access token.\n",
    "    # If no valid token found, we will create one.\n",
    "    creds = None\n",
    "\n",
    "    # The file token.pickle contains the user access token.\n",
    "    # Check if it exists\n",
    "    if os.path.exists('token.pickle'):\n",
    "\n",
    "        # Read the token from the file and store it in the variable creds\n",
    "        with open('token.pickle', 'rb') as token:\n",
    "            creds = pickle.load(token)\n",
    "    \n",
    "    \n",
    "    # If credentials are not available or are invalid, ask the user to log in.\n",
    "    if not creds or not creds.valid:\n",
    "        if creds and creds.expired and creds.refresh_token:\n",
    "            creds.refresh(Request())\n",
    "        else:\n",
    "            flow = InstalledAppFlow.from_client_secrets_file('credentials.json', SCOPES)\n",
    "            creds = flow.run_local_server(port=8080)\n",
    "\n",
    "        # Save the access token in token.pickle file for the next run\n",
    "        with open('token.pickle', 'wb') as token:\n",
    "            pickle.dump(creds, token)\n",
    "\n",
    "    # Connect to the Gmail API\n",
    "    service = build('gmail', 'v1', credentials=creds)\n",
    "\n",
    "    # request a list of all the messages\n",
    "    # result = service.users().messages().list(userId='me').execute()\n",
    "    \n",
    "    # # We can also pass maxResults to get any number of emails. Like this:\n",
    "    result = service.users().messages().list(maxResults=10000, userId='me', q ='\"tracking number\"').execute()\n",
    "    messages = result.get('messages')\n",
    "\n",
    "    # messages is a list of dictionaries where each dictionary contains a message id.\n",
    "    # iterate through all the messages\n",
    "    for msg in messages:\n",
    "        # Get the message from its id\n",
    "        txt = service.users().messages().get(userId='me', id=msg['id']).execute()\n",
    "        \n",
    "        # Use try-except to avoid any Errors\n",
    "        try:\n",
    "            # print(txt)\n",
    "            # Get value of 'payload' from dictionary 'txt'\n",
    "            payload = txt['payload']\n",
    "            headers = payload['headers']\n",
    "\n",
    "            # Look for Subject and Sender Email in the headers\n",
    "            for d in headers:\n",
    "                if d['name'] == 'Subject':\n",
    "                    subject = d['value']\n",
    "                    # tracking_numbers.append(subject)\n",
    "                if d['name'] == 'From':\n",
    "                    sender = d['value']\n",
    "\n",
    "            # The Body of the message is in Encrypted format. So, we have to decode it.\n",
    "            # Get the data and decode it with base 64 decoder.\n",
    "            parts = payload.get('parts')[0]\n",
    "            data = parts['body']['data']\n",
    "            data = data.replace(\"-\",\"+\").replace(\"_\",\"/\")\n",
    "            decoded_data = base64.b64decode(data)\n",
    "            f = open(\"emaillxml.txt\", \"x\")\n",
    "            f.write(decoded_data)\n",
    "            # Now, the data obtained is in lxml. So, we will parse\n",
    "            # it with BeautifulSoup library\n",
    "            # soup = BeautifulSoup(decoded_data , \"lxml\")\n",
    "            # body = soup.body()\n",
    "\n",
    "            # TODO: scan through emails and find tracking numbers, add them to tracking_numbers local var\n",
    "            # Printing the subject, sender's email and message\n",
    "            tracking_numbers += grab_tracking_number(decoded_data)\n",
    "\n",
    "            # print(\"Subject: \", subject)\n",
    "            # print(\"From: \", sender)\n",
    "            # print(\"Message: \", body)\n",
    "            # print('\\n')\n",
    "        except:\n",
    "            pass\n",
    "\n",
    "    return tracking_numbers"
   ]
  },
  {
   "cell_type": "code",
   "execution_count": 80,
   "metadata": {},
   "outputs": [
    {
     "output_type": "stream",
     "name": "stdout",
     "text": [
      "set()\n"
     ]
    }
   ],
   "source": [
    "list_of_tracking_numbers = getTrackingNumbersFromEmailInbox()\n",
    "print(list_of_tracking_numbers)"
   ]
  },
  {
   "cell_type": "code",
   "execution_count": 81,
   "metadata": {},
   "outputs": [],
   "source": [
    "# TODO: Take list of tracking numbers, send them through the ShipEngine to get all data regarding the tracking number\n",
    "# TODO: "
   ]
  }
 ],
 "metadata": {
  "kernelspec": {
   "display_name": "Python 3",
   "language": "python",
   "name": "python3"
  },
  "language_info": {
   "codemirror_mode": {
    "name": "ipython",
    "version": 3
   },
   "file_extension": ".py",
   "mimetype": "text/x-python",
   "name": "python",
   "nbconvert_exporter": "python",
   "pygments_lexer": "ipython3",
   "version": "3.8.5"
  }
 },
 "nbformat": 4,
 "nbformat_minor": 4
}