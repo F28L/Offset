{
 "cells": [
  {
   "cell_type": "code",
   "execution_count": 9,
   "metadata": {
    "scrolled": true
   },
   "outputs": [
    {
     "output_type": "stream",
     "name": "stdout",
     "text": [
      "Requirement already up-to-date: google-api-python-client in /opt/anaconda3/lib/python3.8/site-packages (2.1.0)\n",
      "Requirement already up-to-date: google-auth-httplib2 in /opt/anaconda3/lib/python3.8/site-packages (0.1.0)\n",
      "Requirement already up-to-date: google-auth-oauthlib in /opt/anaconda3/lib/python3.8/site-packages (0.4.4)\n",
      "Requirement already satisfied, skipping upgrade: uritemplate<4dev,>=3.0.0 in /opt/anaconda3/lib/python3.8/site-packages (from google-api-python-client) (3.0.1)\n",
      "Requirement already satisfied, skipping upgrade: httplib2<1dev,>=0.15.0 in /opt/anaconda3/lib/python3.8/site-packages (from google-api-python-client) (0.19.1)\n",
      "Requirement already satisfied, skipping upgrade: six<2dev,>=1.13.0 in /opt/anaconda3/lib/python3.8/site-packages (from google-api-python-client) (1.15.0)\n",
      "Requirement already satisfied, skipping upgrade: google-auth<2dev,>=1.16.0 in /opt/anaconda3/lib/python3.8/site-packages (from google-api-python-client) (1.28.1)\n",
      "Requirement already satisfied, skipping upgrade: google-api-core<2dev,>=1.21.0 in /opt/anaconda3/lib/python3.8/site-packages (from google-api-python-client) (1.26.3)\n",
      "Requirement already satisfied, skipping upgrade: requests-oauthlib>=0.7.0 in /opt/anaconda3/lib/python3.8/site-packages (from google-auth-oauthlib) (1.3.0)\n",
      "Requirement already satisfied, skipping upgrade: pyparsing<3,>=2.4.2 in /opt/anaconda3/lib/python3.8/site-packages (from httplib2<1dev,>=0.15.0->google-api-python-client) (2.4.7)\n",
      "Requirement already satisfied, skipping upgrade: cachetools<5.0,>=2.0.0 in /opt/anaconda3/lib/python3.8/site-packages (from google-auth<2dev,>=1.16.0->google-api-python-client) (4.2.1)\n",
      "Requirement already satisfied, skipping upgrade: setuptools>=40.3.0 in /opt/anaconda3/lib/python3.8/site-packages (from google-auth<2dev,>=1.16.0->google-api-python-client) (50.3.1.post20201107)\n",
      "Requirement already satisfied, skipping upgrade: rsa<5,>=3.1.4; python_version >= \"3.6\" in /opt/anaconda3/lib/python3.8/site-packages (from google-auth<2dev,>=1.16.0->google-api-python-client) (4.7.2)\n",
      "Requirement already satisfied, skipping upgrade: pyasn1-modules>=0.2.1 in /opt/anaconda3/lib/python3.8/site-packages (from google-auth<2dev,>=1.16.0->google-api-python-client) (0.2.8)\n",
      "Requirement already satisfied, skipping upgrade: pytz in /opt/anaconda3/lib/python3.8/site-packages (from google-api-core<2dev,>=1.21.0->google-api-python-client) (2020.1)\n",
      "Requirement already satisfied, skipping upgrade: packaging>=14.3 in /opt/anaconda3/lib/python3.8/site-packages (from google-api-core<2dev,>=1.21.0->google-api-python-client) (20.4)\n",
      "Requirement already satisfied, skipping upgrade: protobuf>=3.12.0 in /opt/anaconda3/lib/python3.8/site-packages (from google-api-core<2dev,>=1.21.0->google-api-python-client) (3.15.8)\n",
      "Requirement already satisfied, skipping upgrade: googleapis-common-protos<2.0dev,>=1.6.0 in /opt/anaconda3/lib/python3.8/site-packages (from google-api-core<2dev,>=1.21.0->google-api-python-client) (1.53.0)\n",
      "Requirement already satisfied, skipping upgrade: requests<3.0.0dev,>=2.18.0 in /opt/anaconda3/lib/python3.8/site-packages (from google-api-core<2dev,>=1.21.0->google-api-python-client) (2.24.0)\n",
      "Requirement already satisfied, skipping upgrade: oauthlib>=3.0.0 in /opt/anaconda3/lib/python3.8/site-packages (from requests-oauthlib>=0.7.0->google-auth-oauthlib) (3.1.0)\n",
      "Requirement already satisfied, skipping upgrade: pyasn1>=0.1.3 in /opt/anaconda3/lib/python3.8/site-packages (from rsa<5,>=3.1.4; python_version >= \"3.6\"->google-auth<2dev,>=1.16.0->google-api-python-client) (0.4.8)\n",
      "Requirement already satisfied, skipping upgrade: urllib3!=1.25.0,!=1.25.1,<1.26,>=1.21.1 in /opt/anaconda3/lib/python3.8/site-packages (from requests<3.0.0dev,>=2.18.0->google-api-core<2dev,>=1.21.0->google-api-python-client) (1.25.11)\n",
      "Requirement already satisfied, skipping upgrade: chardet<4,>=3.0.2 in /opt/anaconda3/lib/python3.8/site-packages (from requests<3.0.0dev,>=2.18.0->google-api-core<2dev,>=1.21.0->google-api-python-client) (3.0.4)\n",
      "Requirement already satisfied, skipping upgrade: idna<3,>=2.5 in /opt/anaconda3/lib/python3.8/site-packages (from requests<3.0.0dev,>=2.18.0->google-api-core<2dev,>=1.21.0->google-api-python-client) (2.10)\n",
      "Requirement already satisfied, skipping upgrade: certifi>=2017.4.17 in /opt/anaconda3/lib/python3.8/site-packages (from requests<3.0.0dev,>=2.18.0->google-api-core<2dev,>=1.21.0->google-api-python-client) (2020.6.20)\n",
      "Note: you may need to restart the kernel to use updated packages.\n"
     ]
    }
   ],
   "source": [
    "pip install --upgrade google-api-python-client google-auth-httplib2 google-auth-oauthlib"
   ]
  },
  {
   "cell_type": "code",
   "execution_count": 99,
   "metadata": {},
   "outputs": [],
   "source": [
    "from __future__ import print_function\n",
    "import os.path\n",
    "from googleapiclient.discovery import build\n",
    "from google_auth_oauthlib.flow import InstalledAppFlow\n",
    "from google.auth.transport.requests import Request\n",
    "from google.oauth2.credentials import Credentials"
   ]
  },
  {
   "cell_type": "code",
   "execution_count": 100,
   "metadata": {
    "tags": []
   },
   "outputs": [],
   "source": [
    "# import the required libraries\n",
    "from googleapiclient.discovery import build\n",
    "from google_auth_oauthlib.flow import InstalledAppFlow\n",
    "from google.auth.transport.requests import Request\n",
    "import pickle\n",
    "import os.path\n",
    "import base64\n",
    "import datetime\n",
    "import re\n",
    "import email\n",
    "from bs4 import BeautifulSoup\n",
    "\n",
    "# Define the SCOPES. If modifying it, delete the token.pickle file.\n",
    "SCOPES = ['https://www.googleapis.com/auth/gmail.readonly']"
   ]
  },
  {
   "cell_type": "code",
   "execution_count": 101,
   "metadata": {},
   "outputs": [],
   "source": [
    "def grab_tracking_number(body):\n",
    "    number_set = set()\n",
    "    usps = '([A-Z]{2}\\d{9}[A-Z]{2}|(420\\d{9}(9[2345])?)?\\d{20}|(420\\d{5})?(9[12345])?(\\d{24}|\\d{20})|82\\d{8})'\n",
    "    ups = '(1Z[A-H,J-N,P,R-Z,0-9]{16})'\n",
    "    fedex = '\\D([0-9]{12}|100\\d{31}|\\d{15}|\\d{18}|96\\d{20}|96\\d{32})\\D'\n",
    "\n",
    "    pattern = re.compile(f'{usps}|{ups}|{fedex}')\n",
    "    fedex_pattern = re.compile(fedex)\n",
    "    usps_pattern = re.compile(usps)\n",
    "    ups_pattern = re.compile(ups)\n",
    "    \n",
    "    existing = set()\n",
    "    \n",
    "    match = re.search(pattern, body)\n",
    "    if fedex_pattern.match(match[0]):\n",
    "        number = re.sub(\"[^0-9]\", \"\", match[0])\n",
    "        if number not in existing:\n",
    "            number_set.add(('fedex', number))\n",
    "            existing.add(number)\n",
    "    elif usps_pattern.match(match[0]) and match[0] not in existing:\n",
    "        if '2106' == match[0][0:4]:\n",
    "            number_set.add(('ups', match[0]))\n",
    "        else:\n",
    "            number_set.add(('usps', match[0]))\n",
    "        existing.add(match[0])\n",
    "    elif ups_pattern.match(match[0]) and match[0] not in existing:\n",
    "        number_set.add(('ups', match[0]))\n",
    "        existing.add(match[0])\n",
    "\n",
    "    return number_set"
   ]
  },
  {
   "cell_type": "code",
   "execution_count": 105,
   "metadata": {
    "tags": []
   },
   "outputs": [
    {
     "output_type": "execute_result",
     "data": {
      "text/plain": [
       "{'name': '445stu',\n",
       " 'email': '445stu@gmail.com',\n",
       " 'packages': [('usps', '42020740936126990350'),\n",
       "  ('usps', '92001902004365000353'),\n",
       "  ('usps', '92001902004365000324'),\n",
       "  ('ups', '1ZAW78859007188985'),\n",
       "  ('usps', '94001112020794115564'),\n",
       "  ('usps', '42060062930012020760'),\n",
       "  ('usps', '92001902004365000313'),\n",
       "  ('usps', '92001902849408000018'),\n",
       "  ('ups', '1Z6A35810356125997'),\n",
       "  ('ups', '1Z7V20960213682474'),\n",
       "  ('usps', '94055111084008073642'),\n",
       "  ('ups', '1Z6R210R0396511876'),\n",
       "  ('usps', '92001902004365000315')]}"
      ]
     },
     "metadata": {},
     "execution_count": 105
    }
   ],
   "source": [
    "def getDataFromEmailInbox():\n",
    "    data_dict = dict()\n",
    "    # Variable creds will store the user access token.\n",
    "    # If no valid token found, we will create one.\n",
    "    creds = None\n",
    "\n",
    "    # The file token.pickle contains the user access token.\n",
    "    # Check if it exists\n",
    "    if os.path.exists('token.pickle'):\n",
    "\n",
    "        # Read the token from the file and store it in the variable creds\n",
    "        with open('token.pickle', 'rb') as token:\n",
    "            creds = pickle.load(token)\n",
    "    \n",
    "    \n",
    "    # If credentials are not available or are invalid, ask the user to log in.\n",
    "    if not creds or not creds.valid:\n",
    "        if creds and creds.expired and creds.refresh_token:\n",
    "            creds.refresh(Request())\n",
    "        else:\n",
    "            flow = InstalledAppFlow.from_client_secrets_file('credentials.json', SCOPES)\n",
    "            creds = flow.run_local_server(port=55160)\n",
    "\n",
    "        # Save the access token in token.pickle file for the next run\n",
    "        with open('token.pickle', 'wb') as token:\n",
    "            pickle.dump(creds, token)\n",
    "\n",
    "    # Connect to the Gmail API\n",
    "    service = build('gmail', 'v1', credentials=creds)\n",
    "\n",
    "    # request a list of all the messages\n",
    "    # result = service.users().messages().list(userId='me').execute()\n",
    "    profile = service.users().getProfile(userId = 'me').execute()\n",
    "\n",
    "    # print(profile['emailAddress'].replace('@gmail.com', ''))\n",
    "    data_dict['name'] = profile['emailAddress'].replace('@gmail.com', '')\n",
    "    data_dict['email'] = profile['emailAddress']\n",
    "\n",
    "    # # We can also pass maxResults to get any number of emails. Like this:\n",
    "    t_minus120 = datetime.datetime.today() - datetime.timedelta(120)\n",
    "    date_time = t_minus120.strftime(\"%Y/%m/%d/\")\n",
    "\n",
    "    result = service.users().messages().list(maxResults=10000, userId='me', q = 'after:' + date_time + ' \"tracking number\"').execute()\n",
    "    messages = result.get('messages')\n",
    "\n",
    "    # messages is a list of dictionaries where each dictionary contains a message id.\n",
    "    # iterate through all the messages\n",
    "    packages = list()\n",
    "    for msg in messages:\n",
    "        # Get the message from its id\n",
    "        txt = service.users().messages().get(userId='me', id=msg['id']).execute()\n",
    "        \n",
    "        # Use try-except to avoid any Errors\n",
    "        try:\n",
    "            # Get value of 'payload' from dictionary 'txt'\n",
    "            payload = txt['payload']\n",
    "            headers = payload['headers']\n",
    "\n",
    "            # Look for Subject and Sender Email in the headers\n",
    "            for d in headers:\n",
    "                if d['name'] == 'Subject':\n",
    "                    subject = d['value']\n",
    "                    # tracking_numbers.append(subject)\n",
    "                if d['name'] == 'From':\n",
    "                    sender = d['value']\n",
    "            \n",
    "            # The Body of the message is in Encrypted format. So, we have to decode it.\n",
    "            # Get the data and decode it with base 64 decoder.\n",
    "            # print(payload['parts'][0])\n",
    "            if 'parts' not in payload.keys():\n",
    "                data = payload['body']['data']\n",
    "            else:\n",
    "                data = payload['parts'][0]['body']['data']\n",
    "            # print(data, sender)\n",
    "            data = data.replace(\"-\",\"+\").replace(\"_\",\"/\")\n",
    "            decoded_data = base64.b64decode(data)\n",
    "\n",
    "            res = list(grab_tracking_number(decoded_data.decode(\"utf-8\")))\n",
    "            packages += res\n",
    "\n",
    "        except Exception as e:\n",
    "            # print(e, 'error')\n",
    "            pass\n",
    "        \n",
    "    data_dict['packages'] = list(set(packages))\n",
    "    return data_dict\n",
    "\n",
    "getDataFromEmailInbox()"
   ]
  },
  {
   "cell_type": "code",
   "execution_count": null,
   "metadata": {},
   "outputs": [],
   "source": []
  }
 ],
 "metadata": {
  "kernelspec": {
   "display_name": "Python 3",
   "language": "python",
   "name": "python3"
  },
  "language_info": {
   "codemirror_mode": {
    "name": "ipython",
    "version": 3
   },
   "file_extension": ".py",
   "mimetype": "text/x-python",
   "name": "python",
   "nbconvert_exporter": "python",
   "pygments_lexer": "ipython3",
   "version": "3.8.5"
  }
 },
 "nbformat": 4,
 "nbformat_minor": 4
}